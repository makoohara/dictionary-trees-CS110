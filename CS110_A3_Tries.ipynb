{
  "cells": [
    {
      "metadata": {
        "deletable": false,
        "nbgrader": {
          "checksum": "97a735c3b12090ea2224684d94b3072f",
          "grade": true,
          "grade_id": "cell-e7e779c9812636b7",
          "locked": false,
          "points": 0,
          "schema_version": 3,
          "solution": true,
          "task": false
        },
        "trusted": true
      },
      "cell_type": "code",
      "source": "NAME = \"\"\nCOLLABORATORS = \"\"",
      "execution_count": 0,
      "outputs": []
    },
    {
      "metadata": {
        "deletable": false,
        "editable": false,
        "nbgrader": {
          "grade": false,
          "grade_id": "cell-f3f7defeea63d511",
          "locked": true,
          "schema_version": 3,
          "solution": false,
          "task": false
        }
      },
      "cell_type": "markdown",
      "source": "---"
    },
    {
      "metadata": {
        "deletable": false,
        "editable": false,
        "nbgrader": {
          "grade": false,
          "grade_id": "cell-14e3f4bcbe37fc5b",
          "locked": true,
          "schema_version": 3,
          "solution": false,
          "task": false
        }
      },
      "cell_type": "markdown",
      "source": "# CS110 Assignment 3 - Trie trees\n\n**Fell free to add more cells to the ones always provided in each question to expand your answers, as needed. Make sure to refer to the [CS110 course guide](https://drive.google.com/file/d/15qthc1zdBTcb7I0BhYjy0O0p186KwmG3/view?pli=1) on the grading guidelines, namely how many HC identifications and applications you are expected to include in each assignment.**\n\nIf you have any questions, do not hesitate to reach out to the TAs in the Slack channel \"#cs110-algo\", or come to one of your instructors' OHs.\n\n### Submission Materials\nYour assignment submission needs to include the following resources:\n1. A PDF file must be the first resource and it will be created from the Jupyter notebook template provided in these instructions. Please make sure to use the same function names as the ones provided in the template. If your name is “Dumbledore”, your PDF should be named “Dumbledore.pdf”.\n2. Your second resource must be a single Python/Jupyter Notebook named “Dumbledore.ipynb”. You can also submit a zip file that includes your Jupyter notebook, but please make sure to name it “Dumbledore.zip” (if your name is Dumbledore!).\n\nFor details on how to create a nice PDF from a Jupyter notebook, refer again to the [CS110 course guide](https://drive.google.com/file/d/15qthc1zdBTcb7I0BhYjy0O0p186KwmG3/view?pli=1).\n\n### HCs and LOs for this assignment\n[#responsibility], [#PythonProgramming], [#CodeReadability], [#DataStructures], [#ComplexityAnalysis], [#ComputationalCritique]\n\n## Question 0\n\nTake a screenshot of your CS110 dashboard on Forum where the following is visible:\n* your name.\n* your absences for the course have been set to excused up to the end of week 10 (inclusively).\n\nThis will be evidence that you have submitted acceptable pre-class and make-up work\nfor a CS110 session you may have missed. Check the specific CS110 make-up and\npre-class policies in the syllabus of the course."
    },
    {
      "metadata": {
        "deletable": false,
        "nbgrader": {
          "checksum": "081559d2b4772addbed7a79527ad25ec",
          "grade": true,
          "grade_id": "cell-5798297773c8b032",
          "locked": false,
          "points": 0,
          "schema_version": 3,
          "solution": true,
          "task": false
        },
        "trusted": true
      },
      "cell_type": "code",
      "source": "# YOUR Q0 ANSWER HERE",
      "execution_count": 0,
      "outputs": []
    },
    {
      "metadata": {
        "deletable": false,
        "editable": false,
        "nbgrader": {
          "grade": false,
          "grade_id": "cell-b95721e867549681",
          "locked": true,
          "schema_version": 3,
          "solution": false,
          "task": false
        }
      },
      "cell_type": "markdown",
      "source": "## Overview\n\nAuto-completion functionalities are now ubiquitous in search engines, document editors, and messaging apps. How would you go about developing an algorithmic strategy from scratch to implement these computational solutions? In this assignment, you will learn about a new data structure and use it to build a very simple auto-complete engine. Each question in the assignment guides you closer to that objective while encouraging you to contrast this novel data structure to the other ones we have discussed in class.\n\nA [trie tree](https://en.wikipedia.org/wiki/Trie), or a prefix tree, is a common data structure that stores a set of strings in a collection of nodes so that all strings with a common prefix are found in the same branch of the tree. Each node is associated with a letter, and as you traverse down the tree, you pick up more letters, eventually forming a word. Complete words are commonly found on the leaf nodes. However, some inner nodes can also mark full words.\n\nLet’s use an example diagram to illustrate several important features of tries:\n\n![tries01.png](attachment:tries01.png)\n\n- Nodes that mark valid words are marked in yellow. Notice that while all leaves are considered valid words, only some inner nodes contain valid words, while some remain only prefixes to valid words appearing down the branch.\n\n- The tree does not have to be balanced, and the height of different branches depends on its contents.\n\n- In our implementation, branches never merge to show common suffixes (for example, both ANT and ART end in T, but these nodes are kept separate in their respective branches). However, this is a common first line of memory optimization for tries.\n\n- The first node contains an empty string; it “holds the tree together.”\n\nYour task in this assignment will be to implement a functional trie tree. You will be able to insert words into a dictionary, lookup valid and invalid words, print your dictionary in alphabetical order, and suggest appropriate suffixes like an auto-complete bot.\n\nThe assignment questions will guide you through these tasks one by one. To stay safe from breaking your own code, and to reinforce the idea of code versioning, under each new question first **copy your previous (working) code**, and only then **implement the new feature**. The code skeletons provided throughout will make this easier for you at the cost of repeating some large portions of code.",
      "attachments": {
        "tries01.png": {
          "image/png": "[encoded data removed]"
        }
      }
    },
    {
      "metadata": {
        "deletable": false,
        "editable": false,
        "nbgrader": {
          "grade": false,
          "grade_id": "cell-819415e8038f6a91",
          "locked": true,
          "schema_version": 3,
          "solution": false,
          "task": false
        }
      },
      "cell_type": "markdown",
      "source": "## Q1: Implement a trie tree\n\nIn this question, you will write Python code that can take a set/list/tuple of strings and insert them into a trie tree and lookup whether a specific word/string is present in the trie tree.\n\n### Q1a: Theoretical pondering\n\nTwo main approaches to building trees, you might recall from class, are making separate Tree and Node classes, or only making a Node class. Which method do you think is a better fit for trie trees, and why? **Justify your reasoning in around 100 words.** You will use your chosen approach throughout the assignment, so don't rush this question."
    },
    {
      "metadata": {
        "deletable": false,
        "nbgrader": {
          "checksum": "811497ae51dcbf9f2c96eae22b05dcc1",
          "grade": true,
          "grade_id": "cell-4e464655d6bebd29",
          "locked": false,
          "points": 0,
          "schema_version": 3,
          "solution": true,
          "task": false
        }
      },
      "cell_type": "markdown",
      "source": "YOUR ANSWER HERE"
    },
    {
      "metadata": {
        "deletable": false,
        "editable": false,
        "nbgrader": {
          "grade": false,
          "grade_id": "cell-4cf53874138c22a2",
          "locked": true,
          "schema_version": 3,
          "solution": false,
          "task": false
        }
      },
      "cell_type": "markdown",
      "source": "### Q1b: Practical implementation\n\nIn the two cells below, there are two code skeletons. Depending on your answer to Q1a, either **implement a Node and a Trie class** or **implement a Node class**. Choose the corresponding code cell and delete the other one.\n\nFor your class(es), write **insert()** and **lookup()** methods, which will insert a word into the trie tree and look it up, respectively. Use the code skeleton and examine the specifications of its docstrings to guide you on the details of inputs and outputs to each method.\n\nIf you are coding two classes, your Trie should, upon initiation, create the root Node. If you are coding a single class, use an attribute to mark the root node.\n\nFinally, make sure that the trie can be **initiated with a wordbank as an input**. This means that a user can create a trie and feed it an initial dictionary of words at the same time (like in the tests below), which will be automatically inserted into the trie upon its creation. Likely, this will mean that your \\_\\_init\\_\\_() has to make some calls to your insert() method.\n\nSeveral test cases have been provided for your convenience and these include some, but not all, possible edge cases. If the implementation is correct, your code will pass all the tests. In addition, create at least **three more tests** to demonstrate that your code is working correctly and justify why such test cases are appropriate."
    },
    {
      "metadata": {
        "deletable": false,
        "nbgrader": {
          "checksum": "11c3f8d85989c48d7be0ab556853d071",
          "grade": true,
          "grade_id": "cell-4584c49085ca66fe",
          "locked": false,
          "points": 0,
          "schema_version": 3,
          "solution": true,
          "task": false
        },
        "trusted": true
      },
      "cell_type": "code",
      "source": "# VERSION 1 - Node + Trie classes\n\nclass Node:\n    \"\"\"This class represents one node of a trie tree.\n    \n    Parameters\n    ----------\n    The parameters for the Node class are not predetermined.\n    However, you will likely need to create one or more of them.\n    \"\"\"\n\n    def __init__(self):\n        # YOUR CODE HERE\n        raise NotImplementedError()\n        \nclass Trie:\n    \"\"\"This class represents the entirety of a trie tree.\n    \n    Parameters\n    ----------\n    The parameters for Trie's __init__ are not predetermined.\n    However, you will likely need one or more of them.    \n    \n    Methods\n    -------\n    insert(self, word)\n        Inserts a word into the trie, creating nodes as required.\n    lookup(self, word)\n        Determines whether a given word is present in the trie.\n    \"\"\"\n    \n    def __init__(self, word_list = None):\n        \"\"\"Creates the Trie instance, inserts initial words if provided.\n        \n        Parameters\n        ----------\n        word_list : list\n            List of strings to be inserted into the trie upon creation.\n        \"\"\"\n        # YOUR CODE HERE\n        raise NotImplementedError()\n    \n    def insert(self, word):\n        \"\"\"Inserts a word into the trie, creating missing nodes on the go.\n        \n        Parameters\n        ----------\n        word : str\n            The word to be inserted into the trie.\n        \"\"\"\n        # YOUR CODE HERE\n        raise NotImplementedError()\n        \n    def lookup(self, word):\n        \"\"\"Determines whether a given word is present in the trie.\n        \n        Parameters\n        ----------\n        word : str\n            The word to be looked-up in the trie.\n            \n        Returns\n        -------\n        bool\n            True if the word is present in trie; False otherwise.\n            \n        Notes\n        -----\n        Your trie should ignore whether a word is capitalized.\n        E.g. trie.insert('Prague') should lead to trie.lookup('prague') = True\n        \"\"\"\n        # YOUR CODE HERE\n        raise NotImplementedError()\n\n# Here are several tests that have been created for you.\n# Remeber that the question asks you to provide several more,\n# as well as to justify them.\n\n# This is Namárië, JRRT's elvish poem written in Quenya\nwordbank = \"Ai! laurië lantar lassi súrinen, yéni unótimë ve rámar aldaron! Yéni ve lintë yuldar avánier mi oromardi lisse-miruvóreva Andúnë pella, Vardo tellumar nu luini yassen tintilar i eleni ómaryo airetári-lírinen. Sí man i yulma nin enquantuva? An sí Tintallë Varda Oiolossëo ve fanyar máryat Elentári ortanë, ar ilyë tier undulávë lumbulë; ar sindanóriello caita mornië i falmalinnar imbë met, ar hísië untúpa Calaciryo míri oialë. Sí vanwa ná, Rómello vanwa, Valimar! Namárië! Nai hiruvalyë Valimar. Nai elyë hiruva. Namárië!\".replace(\"!\", \"\").replace(\"?\", \"\").replace(\".\", \"\").replace(\",\", \"\").replace(\";\", \"\").split()\n\ntrie = Trie(wordbank)\n# be careful about capital letters!\nassert trie.lookup('oiolossëo') == True\n# this is a prefix, but also a word in itself\nassert trie.lookup('an') == True\n# this is a prefix, but NOT a word\nassert trie.lookup('ele') == False\n# not in the wordbank\nassert trie.lookup('Mithrandir') == False\n\n# Note: There are several ways in which we can condense the text cleaning syntax, \n# without repeating the method replace() multiple times, \n# but we are leaving it this way for clarity.",
      "execution_count": 0,
      "outputs": []
    },
    {
      "metadata": {
        "deletable": false,
        "nbgrader": {
          "checksum": "db8835bdc160cdd17141b8260a2af617",
          "grade": true,
          "grade_id": "cell-4584c49085ca66fe0",
          "locked": false,
          "points": 0,
          "schema_version": 3,
          "solution": true,
          "task": false
        },
        "trusted": true
      },
      "cell_type": "code",
      "source": "# VERSION 2 - Node class\n\nclass Node:\n    \"\"\"This class represents one node of a trie tree.\n    \n    Remember, the root Node needs to allow access to the entire trie.\n    Consider conditioning some methods to be only callable on the root.\n    \n    Parameters\n    ----------\n    The parameters for the Node class are not predetermined.\n    However, you will likely need to create one or more of them.\n    \n    Methods\n    -------\n    insert(self, word)\n        Inserts a word into the trie, creating nodes as required.\n    lookup(self, word)\n        Determines whether a given word is present in the trie.\n    \"\"\"\n    \n    def __init__(self, word_list = None):\n        \"\"\"Creates the Node instance, inserts initial words if provided.\n        \n        Parameters\n        ----------\n        word_list : list\n            List of strings to be inserted into the trie upon creation.\n        \"\"\"\n        # YOUR CODE HERE\n        raise NotImplementedError()\n    \n    def insert(self, word):\n        \"\"\"Inserts a word into the trie, creating missing nodes on the go.\n        \n        Parameters\n        ----------\n        word : str\n            The word to be inserted into the trie.\n        \"\"\"\n        # YOUR CODE HERE\n        raise NotImplementedError()\n        \n    def lookup(self, word):\n        \"\"\"Determines whether a given word is present in the trie.\n        \n        Parameters\n        ----------\n        word : str\n            The word to be looked-up in the trie.\n            \n        Returns\n        -------\n        bool\n            True if the word is present in trie; False otherwise.\n            \n        Notes\n        -----\n        Your trie should ignore whether a word is capitalized.\n        E.g. trie.insert('Prague') should lead to trie.lookup('prague') = True\n        \"\"\"\n        # YOUR CODE HERE\n        raise NotImplementedError()\n\n# Here are several tests that have been created for you.\n# Remeber that the question asks you to provide several more,\n# as well as to justify them.\n\n# This is Namárië, JRRT's elvish poem written in Quenya\nwordbank = \"Ai! laurië lantar lassi súrinen, yéni unótimë ve rámar aldaron! Yéni ve lintë yuldar avánier mi oromardi lisse-miruvóreva Andúnë pella, Vardo tellumar nu luini yassen tintilar i eleni ómaryo airetári-lírinen. Sí man i yulma nin enquantuva? An sí Tintallë Varda Oiolossëo ve fanyar máryat Elentári ortanë, ar ilyë tier undulávë lumbulë; ar sindanóriello caita mornië i falmalinnar imbë met, ar hísië untúpa Calaciryo míri oialë. Sí vanwa ná, Rómello vanwa, Valimar! Namárië! Nai hiruvalyë Valimar. Nai elyë hiruva. Namárië!\".replace(\"!\", \"\").replace(\"?\", \"\").replace(\".\", \"\").replace(\",\", \"\").replace(\";\", \"\").split()\n\ntrie = Node(wordbank)\n# be careful about capital letters!\nassert trie.lookup('oiolossëo') == True\n# this is a prefix, but also a word in itself\nassert trie.lookup('an') == True\n# this is a prefix, but NOT a word\nassert trie.lookup('ele') == False\n# not in the wordbank\nassert trie.lookup('Mithrandir') == False\n\n# Note: There are several ways in which we can condense the text cleaning syntax, \n# without repeating the method replace() multiple times, \n# but we are leaving it this way for clarity.",
      "execution_count": 0,
      "outputs": []
    },
    {
      "metadata": {
        "deletable": false,
        "nbgrader": {
          "checksum": "ac5151742a9020c9ff29adfddd184005",
          "grade": true,
          "grade_id": "cell-5bf2526fdd4f6dbb",
          "locked": false,
          "points": 0,
          "schema_version": 3,
          "solution": true,
          "task": false
        },
        "trusted": true
      },
      "cell_type": "code",
      "source": "# YOUR NEW TESTS HERE",
      "execution_count": 0,
      "outputs": []
    },
    {
      "metadata": {
        "deletable": false,
        "nbgrader": {
          "checksum": "e0219e06970eefa3ca107c30948978cf",
          "grade": true,
          "grade_id": "cell-e100769456a0b431",
          "locked": false,
          "points": 0,
          "schema_version": 3,
          "solution": true,
          "task": false
        }
      },
      "cell_type": "markdown",
      "source": "YOUR ANSWER HERE"
    },
    {
      "metadata": {
        "deletable": false,
        "editable": false,
        "nbgrader": {
          "grade": false,
          "grade_id": "cell-fef57ab83eed68f2",
          "locked": true,
          "schema_version": 3,
          "solution": false,
          "task": false
        }
      },
      "cell_type": "markdown",
      "source": "## Q2: The computational complexity of tries\n\nEvaluate the **computational complexity of the insert() and lookup()** methods in a trie. What are the relevant variables for runtime? You might want to consider how the height of a trie is computed to start addressing this question.  Make sure to clearly explain your reasoning.\n\n**Compare your results to** the runtime of the same operations on **a BST**. Can you think of specific circumstances where the practical runtimes of operations supported by tries are higher than for BSTs? Explain your answer. If you believe such circumstances could be common, why would someone even bother implementing a trie tree?"
    },
    {
      "metadata": {
        "deletable": false,
        "nbgrader": {
          "checksum": "8ef94b05f7f1ff341e0e2ad7072f3706",
          "grade": true,
          "grade_id": "cell-df9c5720e271a448",
          "locked": false,
          "points": 0,
          "schema_version": 3,
          "solution": true,
          "task": false
        }
      },
      "cell_type": "markdown",
      "source": "YOUR ANSWER HERE"
    },
    {
      "metadata": {
        "deletable": false,
        "editable": false,
        "nbgrader": {
          "schema_version": 3,
          "solution": false,
          "grade": false,
          "locked": true,
          "task": false,
          "grade_id": "cell-39a6cc552b8ddb5e"
        }
      },
      "cell_type": "markdown",
      "source": "## Q3: Print a dictionary in alphabetical order.\n\nRecall the meaning of pre-order traversal from your previous classes. On the data structure of a trie tree, pre-order traversal corresponds to an alphabetically sorted list of the words contained within (provided that your node children are sorted alphabetically).\n\nFor example, on the example trie given in the introduction, pre-order traversal would return [\"A\", \"AM, \"AN\", \"ANT\", \"AR, \"ART, \"D\" and \"DO\"]. However, since we are only interested in the actual words, we would not include \"D\" and \"AR\" in our list. To that end, you will need to include an attribute for each node, storing the information about whether its content is a word or not.\n\nCopy your existing code to the code skeleton cell below, and add a new method to it, **alphabetical_list()**. This will be version two of your autocomplete script.\n\nThe method should **return a list**, whose elements will be the words contained in the tree, in alphabetical order. On top of passing the provided test, write at least **three more tests**, and explain why they are appropriate.\n\n**Approach choice:** Remember the two possible approaches to the problem, as we’ve seen at the start of the course: iterative or recursive. Depending on your trie implementation, one might be preferred over the other. **Justify your choice of approach** in a few sentences (~100 words).\n\nCopy-paste your previous code and make adjustments to this \"new version\", so that you cannot break the old one :).\n\n*(Notes: If you choose a recursive approach, it might be useful to implement a helper method that is not called by the user but by preorder_traversal(). Also, watch out for the [unintuitive Python behaviour](https://web.archive.org/web/20200221224620/http://effbot.org/zone/default-values.htm) if defining functions with mutable default parameter values.)*"
    },
    {
      "metadata": {
        "deletable": false,
        "nbgrader": {
          "checksum": "f4fe7855a4823fe9f0a15bcf3790d841",
          "grade": true,
          "grade_id": "cell-da1a00263d7d154b",
          "locked": false,
          "points": 0,
          "schema_version": 3,
          "solution": true,
          "task": false
        },
        "trusted": true
      },
      "cell_type": "code",
      "source": "# depending on your choice of approach,\n# add the method either to the Node or the Trie class.\n\n    def alphabetical_list(self):\n        \"\"\"Delivers the content of the trie in alphabetical order.\n\n        You can create other methods if it helps you,\n        but the tests should use this one.\n        \n        Returns\n        ----------\n        list\n            List of strings, all words from the trie in alphabetical order.\n        \"\"\"\n        # YOUR CODE HERE\n        raise NotImplementedError()",
      "execution_count": 0,
      "outputs": []
    },
    {
      "metadata": {
        "deletable": false,
        "nbgrader": {
          "checksum": "282c05cd9f6d2c6870f28ce5d693c0aa",
          "grade": true,
          "grade_id": "cell-7d2cb3ead49482a1",
          "locked": false,
          "points": 0,
          "schema_version": 3,
          "solution": true,
          "task": false
        },
        "trusted": true
      },
      "cell_type": "code",
      "source": "# intiate the test by uncommenting one of the lines below, depending on your approach\n\nwordbank = \"Lorem ipsum dolor sit amet, consectetuer adipiscing elit. Duis pulvinar. Class aptent taciti sociosqu ad litora torquent per conubia nostra, per inceptos hymenaeos. Nunc dapibus tortor vel mi dapibus sollicitudin. Etiam quis quam. Curabitur ligula sapien, pulvinar a vestibulum quis, facilisis vel sapien.\".replace(\",\", \"\").replace(\".\", \"\").split()\n\n# trie = Trie(wordbank)\n# trie = Node(wordbank)\n\nassert trie.alphabetical_list() == ['a','ad','adipiscing','amet','aptent',\n                                    'class','consectetuer','conubia',\n                                    'curabitur','dapibus','dolor','duis',\n                                    'elit','etiam','facilisis','hymenaeos',\n                                    'inceptos','ipsum','ligula','litora',\n                                    'lorem','mi','nostra','nunc','per',\n                                    'pulvinar','quam','quis','sapien',\n                                    'sit','sociosqu','sollicitudin','taciti',\n                                    'torquent','tortor','vel','vestibulum']",
      "execution_count": 0,
      "outputs": []
    },
    {
      "metadata": {
        "deletable": false,
        "nbgrader": {
          "checksum": "feaef91115374444e8a12307cc0003a0",
          "grade": true,
          "grade_id": "cell-7d2cb3ead49482a10",
          "locked": false,
          "points": 0,
          "schema_version": 3,
          "solution": true,
          "task": false
        },
        "trusted": true
      },
      "cell_type": "code",
      "source": "# YOUR NEW TESTS HERE",
      "execution_count": 0,
      "outputs": []
    },
    {
      "metadata": {
        "deletable": false,
        "nbgrader": {
          "checksum": "3a5dfb505c1964b99baa5e7897813333",
          "grade": true,
          "grade_id": "cell-51cd58cc5c843d84",
          "locked": false,
          "points": 0,
          "schema_version": 3,
          "solution": true,
          "task": false
        }
      },
      "cell_type": "markdown",
      "source": "YOUR ANSWER HERE"
    },
    {
      "metadata": {
        "deletable": false,
        "editable": false,
        "nbgrader": {
          "grade": false,
          "grade_id": "cell-49d7083065cc304d",
          "locked": true,
          "schema_version": 3,
          "solution": false,
          "task": false
        }
      },
      "cell_type": "markdown",
      "source": "## Q4: Find the k most common words in a speech.\n\nTo mathematically determine the overall connotation of a speech, you might want to compute which words are most frequently used and then run a [sentiment analysis](https://en.wikipedia.org/wiki/Sentiment_analysis). To this end, add a method to your code, **k_most_common()** that will take as an input k, an integer, and return a list of the k most common words from the dictionary within the trie. The structure of the output list should be such that each entry is a tuple, the first element being the word and the second an integer of its frequency (see docstring if you’re confused).\n\nTo complete this exercise, you don’t have to bother with resolving ties (for example, if k = 1, but there are two most common words with the same frequency, you can return either of them), but consider it an extra challenge and let us know if you believe you managed to solve it.\n\nThe test cell below downloads and preprocesses several real-world speeches, and then runs the k-most-common word analysis of them; your code should pass the tests. As usual, add at least **three more tests**, and justify why they are relevant to your code (feel free to find more speeches to start analysing too!).\n\nAgain, copy-paste your previous code and make adjustments to this \"new version\". The first cell has been locked to stop you from accidentally deleting the docstrings.\n\nCompleting this question well will help you to tackle Q5!\n\n*(Hint: This task will probably require your nodes to store more information about the frequency of words inserted into the tree. One data structure that might be very useful to tackle the problem of traversing the tree and finding most common words is heaps — you are allowed to use the heapq library or another alternative for this task.)*"
    },
    {
      "metadata": {
        "deletable": false,
        "nbgrader": {
          "checksum": "d049686ea2cbf9c211c92914c020929a",
          "grade": true,
          "grade_id": "cell-56d34e4f784db98d",
          "locked": false,
          "points": 0,
          "schema_version": 3,
          "solution": true,
          "task": false
        },
        "trusted": true
      },
      "cell_type": "code",
      "source": "# depending on your choice of approach,\n# add the method either to the Node or the Trie class\n    \n    def k_most_common(self, k):\n        \"\"\"Finds k words inserted into the trie most often.\n\n        You will have to tweak some properties of your existing code,\n        so that it captures information about repeated insertion.\n\n        Parameters\n        ----------\n        k : int\n            Number of most common words to be returned.\n\n        Returns\n        ----------\n        list\n            List of tuples.\n            \n            Each tuple entry consists of the word and its frequency.\n            The entries are sorted by frequency.\n\n        Example\n        -------\n        >>> print(trie.k_most_common(3))\n        [(‘the’, 154), (‘a’, 122), (‘i’, 122)]\n        \n        I.e. the word ‘the’ has appeared 154 times in the inserted text.\n        The second and third most common words both appeared 122 times.\n        \"\"\"\n        # YOUR CODE HERE\n        raise NotImplementedError()",
      "execution_count": 0,
      "outputs": []
    },
    {
      "metadata": {
        "deletable": false,
        "nbgrader": {
          "checksum": "9ca325123bb216215488cf6770587f2b",
          "grade": true,
          "grade_id": "cell-9e839be729e8377a0",
          "locked": false,
          "points": 0,
          "schema_version": 3,
          "solution": true,
          "task": false
        },
        "trusted": true
      },
      "cell_type": "code",
      "source": "# depending on your choice of approach, \n# uncomment one of the lines in the for loop to initiate the test\n\n# you might have to run 'pip install requests' before running this cell \n# since you're downloading data from an online resource \n# please note this might take a while to run\n\n# Mehreen Faruqi - Black Lives Matter in Australia: https://bit.ly/CS110-Faruqi\n# John F. Kennedy - The decision to go to the Moon: https://bit.ly/CS110-Kennedy\n# Martin Luther King Jr. - I have a dream: https://bit.ly/CS110-King\n# Greta Thunberg - UN Climate Summit message: https://bit.ly/CS110-Thunberg\n# Vaclav Havel - Address to US Congress after the fall of Soviet Union: https://bit.ly/CS110-Havel\n\nfrom requests import get\nspeakers = ['Faruqi', 'Kennedy', 'King', 'Thunberg', 'Havel']\nbad_chars = [';', ',', '.', '?', '!', '_', \n             '[', ']', ':', '“', '”', '\"', '–', '-']\n\nfor speaker in speakers:\n    \n    # download and clean up the speech from extra characters\n    speech_full = get(f'https://bit.ly/CS110-{speaker}').text\n    just_text = ''.join(c for c in speech_full if c not in bad_chars)\n    without_newlines = ''.join(c if (c not in ['\\n', '\\r', '\\t']) else \" \" for c in just_text)\n    just_words = [word for word in without_newlines.split(\" \") if word != \"\"]\n    \n    # trie = Trie(just_words)\n    # trie = Node(just_words)\n    \n    if speaker == 'Faruqi':\n        Faruqi = [('the', 60), ('and', 45), ('to', 39), ('in', 37), \n                  ('of', 34), ('is', 25), ('that', 22), ('this', 21), \n                  ('a', 20), ('people', 20), ('has', 14), ('are', 13), \n                  ('for', 13), ('we', 13), ('have', 12), ('racism', 12), \n                  ('black', 11), ('justice', 9), ('lives', 9), ('police', 9)]\n        assert trie.k_most_common(20) == Faruqi\n    \n    elif speaker == 'Kennedy':\n        Kennedy = [('the', 117), ('and', 109), ('of', 93), ('to', 63), \n                   ('this', 44), ('in', 43), ('we', 43), ('a', 39), \n                   ('be', 30), ('for', 27), ('that', 27), ('as', 26), \n                   ('it', 24), ('will', 24), ('new', 22), ('space', 22), \n                   ('is', 21), ('all', 15), ('are', 15), ('have', 15), ('our', 15)]\n        assert trie.k_most_common(21) == Kennedy\n    \n    elif speaker == 'Havel':\n        Havel = [('the', 34), ('of', 23), ('and', 20), ('to', 15), \n                 ('in', 13), ('a', 12), ('that', 12), ('are', 9), \n                 ('we', 9), ('have', 8), ('human', 8), ('is', 8), \n                 ('you', 8), ('as', 7), ('for', 7), ('has', 7), ('this', 7), \n                 ('be', 6), ('it', 6), ('my', 6), ('our', 6), ('world', 6)]\n        assert trie.k_most_common(22) == Havel\n    \n    elif speaker == 'King':\n        King = [('the', 103), ('of', 99), ('to', 59), ('and', 54), ('a', 37), \n                ('be', 33), ('we', 29), ('will', 27), ('that', 24), ('is', 23), \n                ('in', 22), ('as', 20), ('freedom', 20), ('this', 20), \n                ('from', 18), ('have', 17), ('our', 17), ('with', 16), \n                ('i', 15), ('let', 13), ('negro', 13), ('not', 13), ('one', 13)]\n        assert trie.k_most_common(23) == King\n    \n    elif speaker == 'Thunberg':\n        Thunbger = [('you', 22), ('the', 20), ('and', 16), ('of', 15), \n                    ('to', 14), ('are', 10), ('is', 9), ('that', 9), \n                    ('be', 8), ('not', 7), ('with', 7), ('i', 6), \n                    ('in', 6), ('us', 6), ('a', 5), ('how', 5), ('on', 5), \n                    ('we', 5), ('all', 4), ('dare', 4), ('here', 4), \n                    ('my', 4), ('people', 4), ('will', 4)]\n        assert trie.k_most_common(24) == Thunberg\n        \n# Note: There are cleaner and more concise ways to write the code above, \n# but this way it should be easily understandable.",
      "execution_count": 0,
      "outputs": []
    },
    {
      "metadata": {
        "deletable": false,
        "nbgrader": {
          "checksum": "4ec256edaaab465acf106a23c9df8906",
          "grade": true,
          "grade_id": "cell-9e839be729e8377a",
          "locked": false,
          "points": 0,
          "schema_version": 3,
          "solution": true,
          "task": false
        },
        "trusted": true
      },
      "cell_type": "code",
      "source": "# YOUR NEW TESTS HERE",
      "execution_count": 0,
      "outputs": []
    },
    {
      "metadata": {
        "deletable": false,
        "nbgrader": {
          "checksum": "a334b3b36802f203a5b32f9ca4a504c8",
          "grade": true,
          "grade_id": "cell-e89770cfba54e3db",
          "locked": false,
          "points": 0,
          "schema_version": 3,
          "solution": true,
          "task": false
        }
      },
      "cell_type": "markdown",
      "source": "YOUR ANSWER HERE"
    },
    {
      "metadata": {
        "deletable": false,
        "editable": false,
        "nbgrader": {
          "grade": false,
          "grade_id": "cell-6b0e8698889d44bd",
          "locked": true,
          "schema_version": 3,
          "solution": false,
          "task": false
        }
      },
      "cell_type": "markdown",
      "source": "## Q5: Implement an autocomplete with a Shakespearean dictionary!\n\nYour task is to create a new **autocomplete()** method for your class, which will take a string as an input, and return another string as an output. If the string is not present in the tree, the output will be the same as the input. However, if the string is present in the tree, your task is to find the most common word to which it is a prefix and return that word instead (this can still turn out to be itself).\n\nTo make the task more interesting, use the test cell code to download and parse “The Complete Works of William Shakespeare”, and insert them into a trie. Your autocomplete should then pass the following tests. As usual, add at least **three more test cases**, and explain why they are appropriate (you can use input other than Shakespeare for them).\n\nMake sure to include a minimum **100 word-summary critically evaluating** your autocomplete engine. How does it really work? Your critical reflection needs to specifically evaluate the role of the different data structures used by their algorithm and what is the overall complexity that the algorithm offers. Can we do better? If so, how and by how much?\n\n*(Hint: Again, depending on how you choose to implement it, your autocomplete() might make calls to other helper methods. However, make sure that autocomplete() is the method exposed to the user in order to pass the tests.)*\n\n*This is a thoroughly frequentist approach to the problem, which is not the only method, and in many cases not the ideal method. However, if you were tasked with implementing something like [this](https://jqueryui.com/autocomplete/) or [this](https://xdsoft.net/jqplugins/autocomplete/), it might just be enough, so let’s give it a go. Good luck!*"
    },
    {
      "metadata": {
        "deletable": false,
        "nbgrader": {
          "checksum": "523e1a8a65616ad453c28d8804c10a08",
          "grade": true,
          "grade_id": "cell-b43f928d7c5a7b51",
          "locked": false,
          "points": 0,
          "schema_version": 3,
          "solution": true,
          "task": false
        },
        "trusted": true
      },
      "cell_type": "code",
      "source": "# depending on your choice of approach, \n# add this method to your Node or Trie class\n\n    def autocomplete(self, prefix):\n        \"\"\"Finds the most common word with the given prefix.\n\n        You might want to reuse some functionality or ideas from Q4.\n\n        Parameters\n        ----------\n        prefix : str\n            The word part to be “autocompleted”.\n\n        Returns\n        ----------\n        str\n            The complete, most common word with the given prefix.\n            \n        Notes\n        ----------\n        The return value is equal to prefix if there is no valid word in the trie.\n        The return value is also equal to prefix if prefix is the most common word.\n        \"\"\"\n        # YOUR CODE HERE\n        raise NotImplementedError()\n",
      "execution_count": 0,
      "outputs": []
    },
    {
      "metadata": {
        "deletable": false,
        "nbgrader": {
          "checksum": "4d7b237d8fef1472153a888da73a5fa5",
          "grade": true,
          "grade_id": "cell-e65110651f531630",
          "locked": false,
          "points": 0,
          "schema_version": 3,
          "solution": true,
          "task": false
        },
        "trusted": true
      },
      "cell_type": "code",
      "source": "# depending on your choice of approach, uncomment one of the lines below\n# The Complete Works of William Shakespeare is a LARGE book, \n# so the code might take a while to run\n\nfrom requests import get\nbad_chars = [';', ',', '.', '?', '!', '1', '2', '3', '4',\n             '5', '6', '7', '8', '9', '0', '_', '[', ']']\n\nSH_full = get('http://bit.ly/CS110-Shakespeare').text\nSH_just_text = ''.join(c for c in SH_full if c not in bad_chars)\nSH_without_newlines = ''.join(c if (c not in ['\\n', '\\r', '\\t']) else \" \" for c in SH_just_text)\nSH_just_words = [word for word in SH_without_newlines.split(\" \") if word != \"\"]\n\n# SH_trie = Trie(SH_just_words)\n# SH_trie = Node(SH_just_words)\n\nassert SH_trie.autocomplete('hist') == 'history'\nassert SH_trie.autocomplete('en') == 'enter'\nassert SH_trie.autocomplete('cae') == 'caesar'\nassert SH_trie.autocomplete('gen') == 'gentleman'\nassert SH_trie.autocomplete('pen') == 'pen'\nassert SH_trie.autocomplete('tho') == 'thou'\nassert SH_trie.autocomplete('pent') == 'pentapolis'\nassert SH_trie.autocomplete('petr') == 'petruchio'",
      "execution_count": 0,
      "outputs": []
    },
    {
      "metadata": {
        "deletable": false,
        "nbgrader": {
          "checksum": "4d7b237d8fef1472153a888da73a5fa5",
          "grade": true,
          "grade_id": "cell-e65110651f531630",
          "locked": false,
          "points": 0,
          "schema_version": 3,
          "solution": true,
          "task": false
        },
        "trusted": true
      },
      "cell_type": "code",
      "source": "# YOUR NEW TESTS HERE",
      "execution_count": 0,
      "outputs": []
    },
    {
      "metadata": {
        "deletable": false,
        "nbgrader": {
          "checksum": "0900cfbb08f4049be7cb085ac1aa6e42",
          "grade": true,
          "grade_id": "cell-f1fb8e081b7fcaf3",
          "locked": false,
          "points": 0,
          "schema_version": 3,
          "solution": true,
          "task": false
        }
      },
      "cell_type": "markdown",
      "source": "YOUR ANSWER HERE"
    }
  ],
  "metadata": {
    "_draft": {
      "nbviewer_url": "https://gist.github.com/5f6ef786fbd71f033902b72807f18915"
    },
    "gist": {
      "id": "5f6ef786fbd71f033902b72807f18915",
      "data": {
        "description": "CS110_A3_Tries.ipynb",
        "public": false
      }
    },
    "kernelspec": {
      "name": "python3",
      "display_name": "Python 3",
      "language": "python"
    },
    "language_info": {
      "name": "python",
      "version": "3.7.9",
      "mimetype": "text/x-python",
      "codemirror_mode": {
        "name": "ipython",
        "version": 3
      },
      "pygments_lexer": "ipython3",
      "nbconvert_exporter": "python",
      "file_extension": ".py"
    },
    "varInspector": {
      "window_display": false,
      "cols": {
        "lenName": 16,
        "lenType": 16,
        "lenVar": 40
      },
      "kernels_config": {
        "python": {
          "library": "var_list.py",
          "delete_cmd_prefix": "del ",
          "delete_cmd_postfix": "",
          "varRefreshCmd": "print(var_dic_list())"
        },
        "r": {
          "library": "var_list.r",
          "delete_cmd_prefix": "rm(",
          "delete_cmd_postfix": ") ",
          "varRefreshCmd": "cat(var_dic_list()) "
        }
      },
      "types_to_exclude": [
        "module",
        "function",
        "builtin_function_or_method",
        "instance",
        "_Feature"
      ]
    },
    "celltoolbar": "Edit Metadata"
  },
  "nbformat": 4,
  "nbformat_minor": 4
}